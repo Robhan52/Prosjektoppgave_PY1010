{
 "cells": [
  {
   "cell_type": "markdown",
   "id": "4ca985a2-883d-47d2-acf6-059edc940eae",
   "metadata": {},
   "source": [
    "# Prosjekt i PY1010\n",
    "## Support dashboard"
   ]
  },
  {
   "cell_type": "markdown",
   "id": "b7690fe9-ae34-4de1-8cf6-b1768a2a11a2",
   "metadata": {},
   "source": [
    "## Del a) Lese inn data fra Excel og lagre i array "
   ]
  },
  {
   "cell_type": "code",
   "execution_count": 33,
   "id": "d8f1b688-a47f-489a-be32-4956f31c0060",
   "metadata": {},
   "outputs": [
    {
     "name": "stdout",
     "output_type": "stream",
     "text": [
      "['Mandag', 'Mandag', 'Mandag', 'Mandag', 'Mandag'] ['08:04:16', '08:04:53', '08:06:31', '08:11:21', '08:20:46'] ['00:07:12', '00:02:49', '00:08:36', '00:04:34', '00:07:38'] [nan, 6.0, nan, nan, nan]\n"
     ]
    }
   ],
   "source": [
    "%reset -f\n",
    "# importerer bibiliotek \n",
    "import pandas as pd\n",
    "\n",
    "# lese inn excel-filen\n",
    "df = pd.read_excel(\"support_uke_24.xlsx\")\n",
    "\n",
    "# sjekk av 10 første oppføringene i filen\n",
    "# print(df.head(10))\n",
    "\n",
    "# lage arrey\n",
    "u_dag = df[\"Ukedag\"].tolist()\n",
    "kl_slett = df[\"Klokkeslett\"].tolist()\n",
    "varighet = df[\"Varighet\"].tolist()\n",
    "score = df[\"Tilfredshet\"].tolist()\n",
    "\n",
    "# sjekk av 5 første oppføringene i arrey\n",
    "print(u_dag[:5], kl_slett[:5], varighet[:5], score[:5])\n",
    "\n"
   ]
  },
  {
   "cell_type": "markdown",
   "id": "e8c57d41-596d-4e12-a7f7-b0c6b46a7cdf",
   "metadata": {},
   "source": [
    "## Del b) Finner antall hendvendelser pr ukedag visualisert i et søylediagram"
   ]
  },
  {
   "cell_type": "code",
   "execution_count": 35,
   "id": "2bcfa2bf-438c-4974-a5c7-9ea19c3c10cb",
   "metadata": {},
   "outputs": [
    {
     "data": {
      "text/plain": [
       "([0, 1, 2, 3, 4],\n",
       " [Text(0, 0, 'Mandag'),\n",
       "  Text(1, 0, 'Tirsdag'),\n",
       "  Text(2, 0, 'Onsdag'),\n",
       "  Text(3, 0, 'Torsdag'),\n",
       "  Text(4, 0, 'Fredag')])"
      ]
     },
     "execution_count": 35,
     "metadata": {},
     "output_type": "execute_result"
    },
    {
     "data": {
      "image/png": "[encoded data removed]",
      "text/plain": [
       "<Figure size 640x480 with 1 Axes>"
      ]
     },
     "metadata": {},
     "output_type": "display_data"
    }
   ],
   "source": [
    "import matplotlib.pyplot as plt\n",
    "\n",
    "# lager dictionary\n",
    "ant_hendelser_pr_dag = {dag: u_dag.count(dag) for dag in set(u_dag)}\n",
    "\n",
    "# skriver ut antall hendelser pr dag\n",
    "# print(ant_hendelser_pr_dag)\n",
    "\n",
    "# skrive ut som tabell \n",
    "df = pd.DataFrame(list(ant_hendelser_pr_dag.items()), columns=[\"Ukedag\", \"Antall henvendelser\"])\n",
    "# print(df)\n",
    "\n",
    "# Sortere ukedager i ønsket rekkefølge\n",
    "ukedager_rekkefolge = [\"Mandag\", \"Tirsdag\", \"Onsdag\", \"Torsdag\", \"Fredag\", \"Lørdag\", \"Søndag\"]\n",
    "\n",
    "df[\"Ukedag\"] = pd.Categorical(df[\"Ukedag\"], categories = ukedager_rekkefolge, ordered = True)\n",
    "df = df.sort_values(\"Ukedag\")\n",
    "\n",
    "# Lage søylediagram\n",
    "plt.bar(df[\"Ukedag\"], df[\"Antall henvendelser\"], color = \"cyan\")\n",
    "plt.xlabel(\"Ukedag\", color = \"orange\")\n",
    "plt.ylabel(\"Antall henvendelser\", color = \"orange\")\n",
    "plt.title(\"Henvendelser per ukedag\", color = \"orange\")\n",
    "plt.xticks(rotation=45, color = \"orange\")\n",
    "\n"
   ]
  },
  {
   "cell_type": "markdown",
   "id": "dba89500-52df-4e17-88bc-3b23740e5e49",
   "metadata": {},
   "source": [
    "## Del c) Finner minste og lengste samtaletid"
   ]
  },
  {
   "cell_type": "code",
   "execution_count": 37,
   "id": "a85a6d6a-60c1-4ebe-a9ce-e57e606fe975",
   "metadata": {},
   "outputs": [
    {
     "name": "stdout",
     "output_type": "stream",
     "text": [
      "Minste  samtaletid: 00:00:59 minutter\n",
      "Lengste samtaletid: 00:11:28 minutter\n"
     ]
    }
   ],
   "source": [
    "\n",
    "min_samtaletid = min(varighet)\n",
    "max_samtaletid = max(varighet)\n",
    "\n",
    "# skriver ut minimum og maksimum samtaletid\n",
    "print(f\"Minste  samtaletid: {min_samtaletid} minutter\")\n",
    "print(f\"Lengste samtaletid: {max_samtaletid} minutter\")\n"
   ]
  },
  {
   "cell_type": "markdown",
   "id": "d2c4087a-97a6-4437-ba36-22c029c9d6d7",
   "metadata": {},
   "source": [
    "## Del d) Finner gjenomsnitlig samtaletid"
   ]
  },
  {
   "cell_type": "code",
   "execution_count": 39,
   "id": "34ac615c-68d3-4673-904f-7e9fe9d9b09a",
   "metadata": {},
   "outputs": [
    {
     "ename": "IndexError",
     "evalue": "index 2 is out of bounds for axis 0 with size 2",
     "output_type": "error",
     "traceback": [
      "\u001b[1;31m---------------------------------------------------------------------------\u001b[0m",
      "\u001b[1;31mIndexError\u001b[0m                                Traceback (most recent call last)",
      "Cell \u001b[1;32mIn[39], line 2\u001b[0m\n\u001b[0;32m      1\u001b[0m \u001b[38;5;66;03m# Kolonnen for samtalevarighet er i index 2\u001b[39;00m\n\u001b[1;32m----> 2\u001b[0m kolonne_varighet \u001b[38;5;241m=\u001b[39m df\u001b[38;5;241m.\u001b[39mcolumns[\u001b[38;5;241m2\u001b[39m] \n\u001b[0;32m      4\u001b[0m \u001b[38;5;66;03m# Fjerner rader med manglende data i samtalevarighet\u001b[39;00m\n\u001b[0;32m      5\u001b[0m df_clean \u001b[38;5;241m=\u001b[39m df\u001b[38;5;241m.\u001b[39mdropna(subset\u001b[38;5;241m=\u001b[39m[kolonne_varighet])\u001b[38;5;241m.\u001b[39mcopy()\n",
      "File \u001b[1;32m~\\AppData\\Local\\Anaconda\\Lib\\site-packages\\pandas\\core\\indexes\\base.py:5389\u001b[0m, in \u001b[0;36mIndex.__getitem__\u001b[1;34m(self, key)\u001b[0m\n\u001b[0;32m   5386\u001b[0m \u001b[38;5;28;01mif\u001b[39;00m is_integer(key) \u001b[38;5;129;01mor\u001b[39;00m is_float(key):\n\u001b[0;32m   5387\u001b[0m     \u001b[38;5;66;03m# GH#44051 exclude bool, which would return a 2d ndarray\u001b[39;00m\n\u001b[0;32m   5388\u001b[0m     key \u001b[38;5;241m=\u001b[39m com\u001b[38;5;241m.\u001b[39mcast_scalar_indexer(key)\n\u001b[1;32m-> 5389\u001b[0m     \u001b[38;5;28;01mreturn\u001b[39;00m getitem(key)\n\u001b[0;32m   5391\u001b[0m \u001b[38;5;28;01mif\u001b[39;00m \u001b[38;5;28misinstance\u001b[39m(key, \u001b[38;5;28mslice\u001b[39m):\n\u001b[0;32m   5392\u001b[0m     \u001b[38;5;66;03m# This case is separated from the conditional above to avoid\u001b[39;00m\n\u001b[0;32m   5393\u001b[0m     \u001b[38;5;66;03m# pessimization com.is_bool_indexer and ndim checks.\u001b[39;00m\n\u001b[0;32m   5394\u001b[0m     \u001b[38;5;28;01mreturn\u001b[39;00m \u001b[38;5;28mself\u001b[39m\u001b[38;5;241m.\u001b[39m_getitem_slice(key)\n",
      "\u001b[1;31mIndexError\u001b[0m: index 2 is out of bounds for axis 0 with size 2"
     ]
    }
   ],
   "source": [
    "# Kolonnen for samtalevarighet er i index 2\n",
    "kolonne_varighet = df.columns[2] \n",
    "\n",
    "# Fjerner rader med manglende data i samtalevarighet\n",
    "df_clean = df.dropna(subset=[kolonne_varighet]).copy()\n",
    "\n",
    "# Konverter samtalevarighet til tall\n",
    "df_clean[kolonne_varighet] = pd.to_numeric(df_clean[kolonne_varighet], errors=\"coerce\")\n",
    "\n",
    "# Fjerner eventuelle ugyldige verdier\n",
    "df_clean = df_clean.dropna(subset=[kolonne_varighet])\n",
    "\n",
    "# Beregner gjennomsnittlig samtaletid\n",
    "gjennomsnittlig_samtale = df_clean[kolonne_varighet].mean()\n",
    "\n",
    "# Skriv ut resultatet\n",
    "print(\"Beregning av gjennomsnittlig samtaletid for uke 24\")\n",
    "print(f\"Totalt antall samtaler: {len(df_clean)}\")\n",
    "print(f\"Gjennomsnittlig samtaletid: {gjennomsnittlig_samtale:.2f} minutter\")\n"
   ]
  },
  {
   "cell_type": "markdown",
   "id": "d120fbbe-de05-4381-aa1b-1b65f3b24aa5",
   "metadata": {},
   "source": [
    " ## Del e) Finner antall hendvendelser pr tidsrom og visualisert i et sektordiagram"
   ]
  },
  {
   "cell_type": "code",
   "execution_count": null,
   "id": "bc24a4bb-d9df-491e-a726-beebc6c6b707",
   "metadata": {},
   "outputs": [],
   "source": [
    "# kategorisere klokkstlett\n",
    "def kategoriser_tid(tid):\n",
    "    if 8 <= tid < 10:\n",
    "        return \"08-10\"\n",
    "    elif 10 <= tid < 12:\n",
    "        return \"10-12\"\n",
    "    elif 12 <= tid < 14:\n",
    "        return \"12-14\"\n",
    "    elif 14 <= tid < 16:\n",
    "        return \"14-16\"\n",
    "    else:\n",
    "        return \"Utenfor arbeidstid\" \n",
    "\n",
    "# Konverter klokkeslettene til tidsrom\n",
    "tidsrom = [kategoriser_tid(int(k.split(\":\")[0])) for k in kl_slett]\n",
    "\n",
    "# Finn antall henvendelser per tidsrom\n",
    "hendelser_per_supportvakt = {tid: tidsrom.count(tid) for tid in set(tidsrom)}\n",
    "print(hendelser_per_supportvakt)\n",
    "\n",
    "#Definerer rekefølge for tidsrommene\n",
    "rekkefølge = [\"08-10\", \"14-16\", \"12-14\", \"10-12\"]\n",
    "\n",
    "# sektordiagram \n",
    "labels = [tid for tid in rekkefølge if tid in hendelser_per_supportvakt]\n",
    "sizes = [hendelser_per_supportvakt[tid] for tid in labels]\n",
    "\n",
    "plt.figure(figsize=(8, 8))\n",
    "plt.pie(sizes, labels=labels, autopct='%1.1f%%', startangle=90)\n",
    "plt.title('Antall henvendelser per tidsrom for uke 24')\n",
    "plt.show()\n",
    "\n",
    "\n"
   ]
  },
  {
   "cell_type": "markdown",
   "id": "04452076-4317-4e25-95e6-2c2b2fe104a3",
   "metadata": {},
   "source": [
    "## Del f) Kundens tilfretshet i henhold til NPS-systemet "
   ]
  },
  {
   "cell_type": "code",
   "execution_count": null,
   "id": "d3aa0d17-1a1f-4ee5-8ec1-580a7d282e7f",
   "metadata": {},
   "outputs": [],
   "source": [
    "# kolonne for tilfredshet er i kolonne index 3 \n",
    "kolonne_tilfredshet = df.columns[3] \n",
    "\n",
    "# Fjerner NaN-verdier\n",
    "df_clean = df.dropna(subset=[kolonne_tilfredshet]).copy()\n",
    "\n",
    "# Konverter tilfredshetsdata til heltall\n",
    "df_clean[kolonne_tilfredshet] = df_clean[kolonne_tilfredshet].astype(int)\n",
    "\n",
    "# Tell antall kunder i hver kategori\n",
    "antall_kunder = len(df_clean)\n",
    "antall_negative = len(df_clean[df_clean[kolonne_tilfredshet] <= 6])\n",
    "antall_noytrale = len(df_clean[(df_clean[kolonne_tilfredshet] >= 7) & (df_clean[kolonne_tilfredshet] <= 8)])\n",
    "antall_positive = len(df_clean[df_clean[kolonne_tilfredshet] >= 9])\n",
    "\n",
    "# Beregn prosentandelene\n",
    "prosent_negative = (antall_negative / antall_kunder) * 100\n",
    "prosent_positive = (antall_positive / antall_kunder) * 100\n",
    "\n",
    "# Beregn NPS\n",
    "NPS = prosent_positive - prosent_negative\n",
    "\n",
    "# Skriv ut resultatet\n",
    "print(\"Supportavdelings NPS\")\n",
    "print(f\"Totalt antall kunder med tilbakemelding: {antall_kunder}\")\n",
    "print(f\"Negative (1-6): {antall_negative} ({prosent_negative:.2f}%)\")\n",
    "print(f\"Nøytrale (7-8): {antall_noytrale}\")\n",
    "print(f\"Positive (9-10): {antall_positive} ({prosent_positive:.2f}%)\")\n",
    "print(f\"\\n🔹 Net Promoter Score (NPS): {NPS:.2f}\")\n"
   ]
  },
  {
   "cell_type": "code",
   "execution_count": null,
   "id": "115e27b3-16e1-4ee0-b935-109462497d26",
   "metadata": {},
   "outputs": [],
   "source": []
  }
 ],
 "metadata": {
  "kernelspec": {
   "display_name": "Python 3 (ipykernel)",
   "language": "python",
   "name": "python3"
  },
  "language_info": {
   "codemirror_mode": {
    "name": "ipython",
    "version": 3
   },
   "file_extension": ".py",
   "mimetype": "text/x-python",
   "name": "python",
   "nbconvert_exporter": "python",
   "pygments_lexer": "ipython3",
   "version": "3.12.4"
  }
 },
 "nbformat": 4,
 "nbformat_minor": 5
}
